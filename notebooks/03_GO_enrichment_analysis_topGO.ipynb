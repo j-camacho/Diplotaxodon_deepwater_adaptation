{
 "cells": [
  {
   "cell_type": "code",
   "execution_count": null,
   "id": "02b54ccb-c129-4c33-acbb-e475fc0bacde",
   "metadata": {},
   "outputs": [],
   "source": [
    "# Gene ontology enrichment analysis of eye size-associated genes across deepwater Malawi cichlids of the genus Diplotaxodon\n",
    "# Original manuscript: \"Widespread genetic signals of visual system adaptation in deepwater cichlid fishes\"\n",
    "\n",
    "# Eye size GWAS outliers defined as \"top 0.01% associations\"\n",
    "# Included in GO analysis: genes with transcription start site within 25 kb distance from outlier SNPs"
   ]
  },
  {
   "cell_type": "markdown",
   "id": "8c8ddb18-08c7-4540-9448-e079f6c88e30",
   "metadata": {},
   "source": []
  },
  {
   "cell_type": "markdown",
   "id": "3dabbd90-73f1-42b5-b21c-02c0f58425e4",
   "metadata": {},
   "source": [
    "# 1. Packages installation"
   ]
  },
  {
   "cell_type": "code",
   "execution_count": null,
   "id": "8aa3b15b-d6db-4b93-9bb5-657b017d9a63",
   "metadata": {},
   "outputs": [],
   "source": [
    "# Install Bioconductor\n",
    "if(!requireNamespace(\"BiocManager\", quietly=TRUE)) {\n",
    "  install.packages(\"BiocManager\")}"
   ]
  },
  {
   "cell_type": "code",
   "execution_count": null,
   "id": "ce4f024d-04b4-40a0-88bd-4afb107bb769",
   "metadata": {},
   "outputs": [],
   "source": [
    "# Install topGO package\n",
    "BiocManager::install(\"topGO\")"
   ]
  },
  {
   "cell_type": "code",
   "execution_count": null,
   "id": "fe458a22-4d9e-4e69-8e12-f6df786e2d96",
   "metadata": {},
   "outputs": [],
   "source": [
    "BiocManager::install(\"org.Dr.eg.db\")    # Zebrafish annotation package from Bioconductor"
   ]
  },
  {
   "cell_type": "code",
   "execution_count": null,
   "id": "58d16133-455f-4486-a846-a4af2d4de99b",
   "metadata": {},
   "outputs": [],
   "source": [
    "# Load packages\n",
    "library(topGO)\n",
    "library(org.Dr.eg.db)"
   ]
  },
  {
   "cell_type": "code",
   "execution_count": null,
   "id": "b0249f6f-a962-4021-83dd-5353bced82ce",
   "metadata": {},
   "outputs": [],
   "source": [
    "packageVersion('topGO')"
   ]
  },
  {
   "cell_type": "code",
   "execution_count": null,
   "id": "b6afb220-aa9a-4c23-99db-b0533aada5a1",
   "metadata": {},
   "outputs": [],
   "source": []
  },
  {
   "cell_type": "markdown",
   "id": "98826ef5-4ec0-45d2-80c5-a7c35a04ae3d",
   "metadata": {},
   "source": [
    "# 2. Input data"
   ]
  },
  {
   "cell_type": "markdown",
   "id": "0ca734fb-43fe-4284-97c8-f531e5ad51f9",
   "metadata": {},
   "source": [
    "## 2.1. Path to files"
   ]
  },
  {
   "cell_type": "code",
   "execution_count": null,
   "id": "87e5b130-e835-4243-b11c-a905057dbaee",
   "metadata": {},
   "outputs": [],
   "source": [
    "# 'Gene universe'\n",
    "all_genes_mix_fn <- \"../data/03_GO_genes_top001pct_25kbrange_ENSEMBL-genenames.txt\"\n",
    "\n",
    "# Test genes\n",
    "test_genes_mix_ids_25kb_fn <- \"../data/03_GO_genes_GWAS_callset_ENSEMBL-genenames.txt\""
   ]
  },
  {
   "cell_type": "markdown",
   "id": "8e4ebf80-6d05-4f09-b147-69e8ac26b948",
   "metadata": {},
   "source": [
    "## 2.2. Read in data"
   ]
  },
  {
   "cell_type": "code",
   "execution_count": null,
   "id": "76c0da1f-36c0-41fa-905e-280570f2059a",
   "metadata": {},
   "outputs": [],
   "source": [
    "## All genes\n",
    "all_genes_mix <- read.csv(all_genes_mix_fn, header=FALSE)\n",
    "\n",
    "## Test genes\n",
    "test_genes_ensembl <- read.csv(test_genes_ensembl_fn, header=FALSE)"
   ]
  },
  {
   "cell_type": "markdown",
   "id": "a0052451-1cd1-42a1-b8c8-1c264578cd66",
   "metadata": {},
   "source": [
    "# 3. Analysis"
   ]
  },
  {
   "cell_type": "markdown",
   "id": "292fff7f-f0dd-49c9-8165-2f32af731a54",
   "metadata": {},
   "source": [
    "## 3.1. topGO object"
   ]
  },
  {
   "cell_type": "code",
   "execution_count": null,
   "id": "528cc313-1cf9-42dd-ad78-8b7355d94ddb",
   "metadata": {},
   "outputs": [],
   "source": [
    "# Function that creates GO data object for further analyses\n",
    "make_GO_object <- function(description,AllGenes_path, GenesOfInterest_path,\n",
    "                           ontology, nodeSize) {\n",
    "    \n",
    "    # Create gene universe\n",
    "    all_genes <- read.csv(AllGenes_path, header=FALSE)\n",
    "    gene_universe <- as.vector(all_genes$V1)\n",
    "    #gene_universe <- gene_universe[!duplicated(gene_universe)]   # remove duplicates\n",
    "    \n",
    "    # Read in list of interesting genes to test\n",
    "    test_genes <- as.vector(read.csv(GenesOfInterest_path,\n",
    "                       sep = ',',header = FALSE)[[1]]) \n",
    "    \n",
    "    # Classify genes into test ('1') and no test ('0'). This will be the input data for GOdata object.\n",
    "    geneClassify <- factor(as.integer(gene_universe %in% test_genes))\n",
    "    names(geneClassify) <- gene_universe\n",
    "    str(geneClassify)\n",
    "    \n",
    "    # Build GOdata object    \n",
    "    GOdata <- new(\"topGOdata\", description = description, ontology = ontology,\n",
    "                  allGenes = geneClassify,\n",
    "                  nodeSize = nodeSize,\n",
    "                  annot = annFUN.org, mapping = \"org.Dr.eg.db\", ID = \"symbol\")   # using zebrafish database for mapping of GO terms\n",
    "}"
   ]
  },
  {
   "cell_type": "code",
   "execution_count": null,
   "id": "56a63854-cb64-4b68-86d8-44494127ebd7",
   "metadata": {},
   "outputs": [],
   "source": [
    "# Biological process\n",
    "GO_BP <- make_GO_object(description=\"genes around 25 kb of top 0.01% sig GWAS - mixed ensembl & gene names\",\n",
    "                        all_genes_mix_fn, test_genes_mix_ids_25kb_fn, ontology=\"BP\", nodeSize=5)"
   ]
  },
  {
   "cell_type": "code",
   "execution_count": null,
   "id": "8497728a-39ab-4699-8c09-eba213329aec",
   "metadata": {},
   "outputs": [],
   "source": [
    "# Molecular function\n",
    "GO_MF <- make_GO_object(description=\"genes around 25 kb of top 0.01% sig GWAS - mixed ensembl & gene names\",\n",
    "                        all_genes_mix_fn, test_genes_mix_ids_25kb_fn, ontology=\"MF\", nodeSize=5)"
   ]
  },
  {
   "cell_type": "markdown",
   "id": "e261b6ac-2635-438d-9574-bfbf60a1832e",
   "metadata": {},
   "source": [
    "## Fisher's exact test"
   ]
  },
  {
   "cell_type": "code",
   "execution_count": null,
   "id": "a6f7d57d-3f35-459a-920d-606b4f595c1d",
   "metadata": {},
   "outputs": [],
   "source": [
    "# Using different algorithms to account for dependency of GO categories\n",
    "resultClassic <- runTest(GO_BP, algorithm = \"classic\", statistic = \"fisher\")\n",
    "resultElim <- runTest(GO_BP, algorithm = \"elim\", statistic = \"fisher\")\n",
    "resultWeight <- runTest(GO_BP, algorithm = \"weight\", statistic = \"fisher\")"
   ]
  },
  {
   "cell_type": "code",
   "execution_count": null,
   "id": "c56e0a0a-d6b1-4f27-9dd0-7fcb8bf4ee83",
   "metadata": {},
   "outputs": [],
   "source": [
    "# Same for molecular function\n",
    "resultClassic1 <- runTest(GO_MF, algorithm = \"classic\", statistic = \"fisher\")\n",
    "resultElim1 <- runTest(GO_MF, algorithm = \"elim\", statistic = \"fisher\")\n",
    "resultWeight1 <- runTest(GO_MF, algorithm = \"weight\", statistic = \"fisher\")"
   ]
  },
  {
   "cell_type": "code",
   "execution_count": null,
   "id": "b64ab8f3-4cea-47ff-9584-9a31458342cb",
   "metadata": {},
   "outputs": [],
   "source": []
  },
  {
   "cell_type": "code",
   "execution_count": null,
   "id": "2239f1be-efe7-40d7-9ec7-e51cf8d07859",
   "metadata": {},
   "outputs": [],
   "source": [
    "# e.g., BP Fischer test results weight algorithm\n",
    "resultWeight"
   ]
  },
  {
   "cell_type": "code",
   "execution_count": null,
   "id": "8c242eaa-d5f6-4125-853e-7b53a723fff8",
   "metadata": {},
   "outputs": [],
   "source": []
  },
  {
   "cell_type": "markdown",
   "id": "f8285035-b23e-4520-8537-15ee08b859e9",
   "metadata": {},
   "source": [
    "## Results"
   ]
  },
  {
   "cell_type": "code",
   "execution_count": null,
   "id": "b2728082-9036-4847-9ce5-416c986bc006",
   "metadata": {},
   "outputs": [],
   "source": [
    "# BP weight\n",
    "FT_resultWeight <- GenTable(GO_BP, countFisher = resultWeight,\n",
    "                            orderBy = \"countFisher\",\n",
    "                            topNodes = length(score(resultWeight))) "
   ]
  },
  {
   "cell_type": "code",
   "execution_count": null,
   "id": "3fe7605f-d03f-4bcc-9e2b-9fa05c782586",
   "metadata": {},
   "outputs": [],
   "source": [
    "# All three tests in one table\n",
    "allRes <- GenTable(GO_BP, \n",
    "                   classic = resultClassic, elim = resultElim, weight = resultWeight,\n",
    "                   orderBy = \"weight\",\n",
    "                   ranksOf = \"classic\", \n",
    "                   topNodes = length(score(resultWeight)))"
   ]
  },
  {
   "cell_type": "code",
   "execution_count": null,
   "id": "95f4c424-5277-4d7d-8124-f4bf0d0de5db",
   "metadata": {},
   "outputs": [],
   "source": [
    "# Add lists of genes to each GO term\n",
    "test_genes25kb <- as.vector(read.csv(test_genes_mix_ids_25kb_fn,\n",
    "                                     sep = ',',\n",
    "                                     header = FALSE)[[1]]) "
   ]
  },
  {
   "cell_type": "code",
   "execution_count": null,
   "id": "959d731f-f7a5-4b0e-bbd1-ce20d3b062ee",
   "metadata": {},
   "outputs": [],
   "source": [
    "FT_resultWeight$genes <- sapply(FT_resultWeight$GO.ID, function(x)\n",
    "    {genes <- genesInTerm(GO1_BP, x)\n",
    "     genes[[1]][genes[[1]] %in% test_genes25kb] # myGenes is the queried gene list\n",
    "    })\n",
    "\n",
    "FT_resultWeight$genes[which(FT_resultWeight$countFisher<0.01)] # print those only with p-value < 0.01"
   ]
  },
  {
   "cell_type": "code",
   "execution_count": null,
   "id": "edf3f306-59af-4ac4-9c06-ffc809ac0ef2",
   "metadata": {},
   "outputs": [],
   "source": [
    "# Print table\n",
    "FT_resultWeight"
   ]
  },
  {
   "cell_type": "code",
   "execution_count": null,
   "id": "a7d81c7f-def7-4ed7-8ac9-9ab3d4e7b395",
   "metadata": {},
   "outputs": [],
   "source": [
    "# Export results table\n",
    "FT_resultWeight[, 7] <- paste(FT_resultWeight[, 7])\n",
    "colnames(FT_resultWeight)[7] <- paste(colnames(FT_resultWeight)[7], collapse = \",\")\n",
    "\n",
    "write.csv(FT_resultWeight, file = \"outfile.csv\", sep = \"\\t\", row.names = FALSE)"
   ]
  }
 ],
 "metadata": {
  "kernelspec": {
   "display_name": "R",
   "language": "R",
   "name": "ir"
  },
  "language_info": {
   "codemirror_mode": "r",
   "file_extension": ".r",
   "mimetype": "text/x-r-source",
   "name": "R",
   "pygments_lexer": "r",
   "version": "4.3.3"
  }
 },
 "nbformat": 4,
 "nbformat_minor": 5
}
