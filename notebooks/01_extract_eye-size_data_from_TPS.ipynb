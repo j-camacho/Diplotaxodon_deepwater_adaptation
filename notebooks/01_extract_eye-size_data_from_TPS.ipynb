{
 "cells": [
  {
   "cell_type": "markdown",
   "metadata": {},
   "source": [
    "J. I. Camacho Garcia\n",
    "\n",
    "This notebook shows an example of how TPS files containing morphometric coordinates were read and processed to extract eye size data. \n",
    "This data is saved as a table, containing sample photo ID, body length, and eye diameter and body size-corrected eye diameter.\n",
    "The curated table linking eye size data to all indivuals used in this study is available in Supplementary Data 1."
   ]
  },
  {
   "cell_type": "code",
   "execution_count": null,
   "metadata": {},
   "outputs": [],
   "source": [
    "import pandas as pd\n",
    "import numpy as np\n",
    "import math"
   ]
  },
  {
   "cell_type": "code",
   "execution_count": null,
   "metadata": {},
   "outputs": [],
   "source": [
    "# Modified from: https://gist.github.com/jinyung/1b8fe5735fbfdf07378197cc4c9acc3a\n",
    "\n",
    "def readtps(input):\n",
    "    \"\"\"\n",
    "    Function to read a .TPS file\n",
    "    Args:\n",
    "        input (str): path to the .TPS file\n",
    "    Returns:\n",
    "        lm (str list): info extracted from 'LM=' field\n",
    "        im (str list): info extracted from 'IMAGE=' field\n",
    "        id (str list): info extracted from 'ID=' filed\n",
    "        coords: returns a 3D numpy array if all the individuals have same\n",
    "                number of landmarks, otherwise returns a list containing 2d\n",
    "                matrices of landmarks\n",
    "    \"\"\"\n",
    "\n",
    "    # open the file\n",
    "    tps_file = open(input, 'r')  # 'r' = read\n",
    "    tps = tps_file.read().splitlines()  # read as lines and split by new lines\n",
    "    tps_file.close()\n",
    "\n",
    "    # initiate lists to take fields of \"LM=\",\"IMAGE=\", \"ID=\" and the coords\n",
    "    lm, im, ID, SCALE, coords_array = [], [], [], [], []\n",
    "\n",
    "    # looping through the lines\n",
    "    for i, ln in enumerate(tps):\n",
    "\n",
    "        # Each individual starts with \"LM=\"\n",
    "        if ln.startswith(\"LM\"):\n",
    "            # number of landmarks of this ind\n",
    "            lm_num = int(ln.split('=')[1])\n",
    "            # fill the info to the list for all inds\n",
    "            lm.append(lm_num)\n",
    "            # initiate a list to take 2d coordinates\n",
    "            coords_mat = []\n",
    "\n",
    "            # fill the coords list by reading next lm_num of lines\n",
    "            for j in range(i + 1, i + 1 + lm_num):\n",
    "                coords_mat.append(tps[j].split(' '))  # split lines into values\n",
    "\n",
    "            # change the list into a numpy matrix storing float vals\n",
    "            coords_mat = np.array(coords_mat, dtype=float)\n",
    "            # fill the ind 2d matrix into the 3D coords array of all inds\n",
    "            coords_array.append(coords_mat)\n",
    "            # coords_array.append(coords_mat)\n",
    "\n",
    "        # Get info of IMAGE= , ID= and SCALE fields\n",
    "        if ln.startswith(\"IMAGE\"):\n",
    "            im.append(ln.split('=')[1])\n",
    "\n",
    "        if ln.startswith(\"ID\"):\n",
    "            ID.append(ln.split('=')[1])\n",
    "            \n",
    "        if ln.startswith(\"SCALE\"):\n",
    "            SCALE.append(ln.split('=')[1])\n",
    "\n",
    "    # check if all inds contain same number of landmarks\n",
    "    all_lm_same = all(x == lm[0] for x in lm)\n",
    "    # if all same change the list into a 3d numpy array\n",
    "    if all_lm_same:\n",
    "        coords_array = np.dstack(coords_array)\n",
    "\n",
    "    # return results in dictionary form\n",
    "    return {'lm': lm, 'im': im, 'id': ID, 'scale': SCALE, 'coords': coords_array}"
   ]
  },
  {
   "cell_type": "code",
   "execution_count": null,
   "metadata": {},
   "outputs": [],
   "source": [
    "# Read in tps file.\n",
    "# This file includes coordinates for 18 homologous landmark points\n",
    "tps = readtps(\"../data/01_morphological_data_landmark_coordinates_Malawi_radiation.tps\")"
   ]
  },
  {
   "cell_type": "code",
   "execution_count": null,
   "metadata": {},
   "outputs": [],
   "source": [
    "tps.keys()"
   ]
  },
  {
   "cell_type": "code",
   "execution_count": null,
   "metadata": {},
   "outputs": [],
   "source": [
    "# How to read the coordinates data. Examples:\n",
    "tps['coords'][10][0][0]   # [landmark point][axis, 'x=0','y=1'][individual]\n",
    "tps['coords'][10][0][1]   # Landmark 11, x coordinate, ind 1\n",
    "tps['coords'][9][0][1]   # Landmark 10, x coordinate, ind 1"
   ]
  },
  {
   "cell_type": "code",
   "execution_count": null,
   "metadata": {},
   "outputs": [],
   "source": [
    "# Get landmark coordinates for upper jaw and the caudal fin base.\n",
    "# The distance between these two points will be used as standard lenght of the fish.\n",
    "# The caudal fin base coordinates are calculated as the midpoint between landmarks 10 (top) and 11 (bottom)\n",
    "# See Supplementary Figure 7 for reference.\n",
    "x_cfin = (tps['coords'][9][0]+tps['coords'][10][0])/2\n",
    "y_cfin = (tps['coords'][9][1]+tps['coords'][10][1])/2\n",
    "x_ujaw = tps['coords'][0][0]\n",
    "y_ujaw = tps['coords'][0][1]"
   ]
  },
  {
   "cell_type": "code",
   "execution_count": null,
   "metadata": {},
   "outputs": [],
   "source": [
    "# Calculate standard length\n",
    "SL = [math.sqrt(i) for i in list((x_ujaw - x_cfin)**2 + (y_ujaw - y_cfin)**2)]"
   ]
  },
  {
   "cell_type": "code",
   "execution_count": null,
   "metadata": {},
   "outputs": [],
   "source": [
    "# Get landmark coordinates for eye (the two points that cross the eye horizontally = landmarks 4 and 5)\n",
    "# These two points will be used to calculate the eye width, as the linear distance between the two points.\n",
    "xeye_lm4 = tps['coords'][3][0]\n",
    "xeye_lm5 = tps['coords'][4][0]\n",
    "yeye_lm4 = tps['coords'][3][1]\n",
    "yeye_lm5 = tps['coords'][4][1]"
   ]
  },
  {
   "cell_type": "code",
   "execution_count": null,
   "metadata": {},
   "outputs": [],
   "source": [
    "# Calculate eye diameter\n",
    "ED = [math.sqrt(i) for i in list((xeye_lm4 - xeye_lm5)**2 + (yeye_lm4 - yeye_lm5)**2)]"
   ]
  },
  {
   "cell_type": "code",
   "execution_count": null,
   "metadata": {},
   "outputs": [],
   "source": [
    "# Translate coordinates distances into real distances, using the scale provided.\n",
    "# Scale values in the tps dict are strings. Convert to float before calculating distances.\n",
    "\n",
    "scale = [float(i) for i in tps['scale']]   # Transform scale to float\n",
    "\n",
    "SL_dist = [a*b for a,b in zip(SL,scale)]   # Multiply SL and scale element by element \n",
    "ED_dist = [a*b for a,b in zip(ED,scale)]"
   ]
  },
  {
   "cell_type": "code",
   "execution_count": null,
   "metadata": {},
   "outputs": [],
   "source": [
    "SL_dist[1:5]   # Looks ok?"
   ]
  },
  {
   "cell_type": "code",
   "execution_count": null,
   "metadata": {},
   "outputs": [],
   "source": [
    "# Calculate eye diameter corrected for body size \n",
    "size_corr_ED_to_scale = [a/b for a,b in zip(ED_dist,SL_dist)]"
   ]
  },
  {
   "cell_type": "code",
   "execution_count": null,
   "metadata": {},
   "outputs": [],
   "source": [
    "# Save data to dataframe\n",
    "df = pd.DataFrame(zip(list(tps[\"im\"]),tps['scale'],SL_dist,ED_dist,size_corr_ED_to_scale),\n",
    "                columns =['id','scale','SL','ED','ED.SL']) "
   ]
  },
  {
   "cell_type": "code",
   "execution_count": null,
   "metadata": {},
   "outputs": [],
   "source": [
    "df.head()"
   ]
  },
  {
   "cell_type": "code",
   "execution_count": null,
   "metadata": {},
   "outputs": [],
   "source": [
    "# Photo IDs can be matched to species and sequences using the study metadata. This information is presented in Supplementary Data 1"
   ]
  }
 ],
 "metadata": {
  "kernelspec": {
   "display_name": "Python 3 (ipykernel)",
   "language": "python",
   "name": "python3"
  },
  "language_info": {
   "codemirror_mode": {
    "name": "ipython",
    "version": 3
   },
   "file_extension": ".py",
   "mimetype": "text/x-python",
   "name": "python",
   "nbconvert_exporter": "python",
   "pygments_lexer": "ipython3",
   "version": "3.10.14"
  },
  "toc": {
   "base_numbering": 1,
   "nav_menu": {},
   "number_sections": true,
   "sideBar": true,
   "skip_h1_title": false,
   "title_cell": "Table of Contents",
   "title_sidebar": "Contents",
   "toc_cell": false,
   "toc_position": {
    "height": "calc(100% - 180px)",
    "left": "10px",
    "top": "150px",
    "width": "253.4px"
   },
   "toc_section_display": true,
   "toc_window_display": true
  }
 },
 "nbformat": 4,
 "nbformat_minor": 4
}
